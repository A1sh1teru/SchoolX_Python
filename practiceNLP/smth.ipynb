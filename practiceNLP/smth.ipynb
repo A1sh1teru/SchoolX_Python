{
 "cells": [
  {
   "cell_type": "code",
   "execution_count": 20,
   "metadata": {},
   "outputs": [
    {
     "name": "stdout",
     "output_type": "stream",
     "text": [
      "Note: you may need to restart the kernel to use updated packages.\n"
     ]
    },
    {
     "name": "stderr",
     "output_type": "stream",
     "text": [
      "[nltk_data] Downloading package punkt to\n",
      "[nltk_data]     C:\\Users\\velic\\AppData\\Roaming\\nltk_data...\n",
      "[nltk_data]   Package punkt is already up-to-date!\n",
      "[nltk_data] Downloading package averaged_perceptron_tagger to\n",
      "[nltk_data]     C:\\Users\\velic\\AppData\\Roaming\\nltk_data...\n",
      "[nltk_data]   Package averaged_perceptron_tagger is already up-to-\n",
      "[nltk_data]       date!\n",
      "[nltk_data] Downloading package wordnet to\n",
      "[nltk_data]     C:\\Users\\velic\\AppData\\Roaming\\nltk_data...\n",
      "[nltk_data]   Package wordnet is already up-to-date!\n"
     ]
    },
    {
     "ename": "TypeError",
     "evalue": "Tree() argument 2 should be a list, not a string",
     "output_type": "error",
     "traceback": [
      "\u001b[1;31m---------------------------------------------------------------------------\u001b[0m",
      "\u001b[1;31mAttributeError\u001b[0m                            Traceback (most recent call last)",
      "File \u001b[1;32mc:\\Users\\velic\\AppData\\Local\\Programs\\Python\\Python311\\Lib\\site-packages\\nltk\\chunk\\regexp.py:1077\u001b[0m, in \u001b[0;36mRegexpChunkParser.parse\u001b[1;34m(self, chunk_struct, trace)\u001b[0m\n\u001b[0;32m   1076\u001b[0m \u001b[39mtry\u001b[39;00m:\n\u001b[1;32m-> 1077\u001b[0m     chunk_struct\u001b[39m.\u001b[39;49mlabel()\n\u001b[0;32m   1078\u001b[0m \u001b[39mexcept\u001b[39;00m \u001b[39mAttributeError\u001b[39;00m:\n",
      "\u001b[1;31mAttributeError\u001b[0m: 'str' object has no attribute 'label'",
      "\nDuring handling of the above exception, another exception occurred:\n",
      "\u001b[1;31mTypeError\u001b[0m                                 Traceback (most recent call last)",
      "\u001b[1;32md:\\Programming\\schoolx_python\\practiceNLP\\smth.ipynb Cell 1\u001b[0m line \u001b[0;36m2\n\u001b[0;32m     <a href='vscode-notebook-cell:/d%3A/Programming/schoolx_python/practiceNLP/smth.ipynb#W0sZmlsZQ%3D%3D?line=18'>19</a>\u001b[0m reg_parser \u001b[39m=\u001b[39m nltk\u001b[39m.\u001b[39mRegexpParser(grammar)\n\u001b[0;32m     <a href='vscode-notebook-cell:/d%3A/Programming/schoolx_python/practiceNLP/smth.ipynb#W0sZmlsZQ%3D%3D?line=19'>20</a>\u001b[0m \u001b[39m# Reg_parser.parse(sentence)\u001b[39;00m\n\u001b[1;32m---> <a href='vscode-notebook-cell:/d%3A/Programming/schoolx_python/practiceNLP/smth.ipynb#W0sZmlsZQ%3D%3D?line=20'>21</a>\u001b[0m output \u001b[39m=\u001b[39m reg_parser\u001b[39m.\u001b[39;49mparse(sentence)\n\u001b[0;32m     <a href='vscode-notebook-cell:/d%3A/Programming/schoolx_python/practiceNLP/smth.ipynb#W0sZmlsZQ%3D%3D?line=21'>22</a>\u001b[0m output\u001b[39m.\u001b[39mdraw()\n",
      "File \u001b[1;32mc:\\Users\\velic\\AppData\\Local\\Programs\\Python\\Python311\\Lib\\site-packages\\nltk\\chunk\\regexp.py:1279\u001b[0m, in \u001b[0;36mRegexpParser.parse\u001b[1;34m(self, chunk_struct, trace)\u001b[0m\n\u001b[0;32m   1277\u001b[0m \u001b[39mfor\u001b[39;00m i \u001b[39min\u001b[39;00m \u001b[39mrange\u001b[39m(\u001b[39mself\u001b[39m\u001b[39m.\u001b[39m_loop):\n\u001b[0;32m   1278\u001b[0m     \u001b[39mfor\u001b[39;00m parser \u001b[39min\u001b[39;00m \u001b[39mself\u001b[39m\u001b[39m.\u001b[39m_stages:\n\u001b[1;32m-> 1279\u001b[0m         chunk_struct \u001b[39m=\u001b[39m parser\u001b[39m.\u001b[39;49mparse(chunk_struct, trace\u001b[39m=\u001b[39;49mtrace)\n\u001b[0;32m   1280\u001b[0m \u001b[39mreturn\u001b[39;00m chunk_struct\n",
      "File \u001b[1;32mc:\\Users\\velic\\AppData\\Local\\Programs\\Python\\Python311\\Lib\\site-packages\\nltk\\chunk\\regexp.py:1079\u001b[0m, in \u001b[0;36mRegexpChunkParser.parse\u001b[1;34m(self, chunk_struct, trace)\u001b[0m\n\u001b[0;32m   1077\u001b[0m     chunk_struct\u001b[39m.\u001b[39mlabel()\n\u001b[0;32m   1078\u001b[0m \u001b[39mexcept\u001b[39;00m \u001b[39mAttributeError\u001b[39;00m:\n\u001b[1;32m-> 1079\u001b[0m     chunk_struct \u001b[39m=\u001b[39m Tree(\u001b[39mself\u001b[39;49m\u001b[39m.\u001b[39;49m_root_label, chunk_struct)\n\u001b[0;32m   1081\u001b[0m \u001b[39m# Use the default trace value?\u001b[39;00m\n\u001b[0;32m   1082\u001b[0m \u001b[39mif\u001b[39;00m trace \u001b[39mis\u001b[39;00m \u001b[39mNone\u001b[39;00m:\n",
      "File \u001b[1;32mc:\\Users\\velic\\AppData\\Local\\Programs\\Python\\Python311\\Lib\\site-packages\\nltk\\tree\\tree.py:98\u001b[0m, in \u001b[0;36mTree.__init__\u001b[1;34m(self, node, children)\u001b[0m\n\u001b[0;32m     94\u001b[0m     \u001b[39mraise\u001b[39;00m \u001b[39mTypeError\u001b[39;00m(\n\u001b[0;32m     95\u001b[0m         \u001b[39m\"\u001b[39m\u001b[39m%s\u001b[39;00m\u001b[39m: Expected a node value and child list \u001b[39m\u001b[39m\"\u001b[39m \u001b[39m%\u001b[39m \u001b[39mtype\u001b[39m(\u001b[39mself\u001b[39m)\u001b[39m.\u001b[39m\u001b[39m__name__\u001b[39m\n\u001b[0;32m     96\u001b[0m     )\n\u001b[0;32m     97\u001b[0m \u001b[39melif\u001b[39;00m \u001b[39misinstance\u001b[39m(children, \u001b[39mstr\u001b[39m):\n\u001b[1;32m---> 98\u001b[0m     \u001b[39mraise\u001b[39;00m \u001b[39mTypeError\u001b[39;00m(\n\u001b[0;32m     99\u001b[0m         \u001b[39m\"\u001b[39m\u001b[39m%s\u001b[39;00m\u001b[39m() argument 2 should be a list, not a \u001b[39m\u001b[39m\"\u001b[39m\n\u001b[0;32m    100\u001b[0m         \u001b[39m\"\u001b[39m\u001b[39mstring\u001b[39m\u001b[39m\"\u001b[39m \u001b[39m%\u001b[39m \u001b[39mtype\u001b[39m(\u001b[39mself\u001b[39m)\u001b[39m.\u001b[39m\u001b[39m__name__\u001b[39m\n\u001b[0;32m    101\u001b[0m     )\n\u001b[0;32m    102\u001b[0m \u001b[39melse\u001b[39;00m:\n\u001b[0;32m    103\u001b[0m     \u001b[39mlist\u001b[39m\u001b[39m.\u001b[39m\u001b[39m__init__\u001b[39m(\u001b[39mself\u001b[39m, children)\n",
      "\u001b[1;31mTypeError\u001b[0m: Tree() argument 2 should be a list, not a string"
     ]
    }
   ],
   "source": [
    "%pip install -q nltk\n",
    "import nltk\n",
    "nltk.download('punkt')\n",
    "nltk.download('averaged_perceptron_tagger')\n",
    "nltk.download('wordnet')\n",
    "# sentence = [\n",
    "#     (\"a\", \"DT\"),\n",
    "#     (\"fox\", \"NN\"),\n",
    "#     (\"was\", \"VBP\"),\n",
    "#     (\"jumping\", \"VBP\"),\n",
    "#     (\"over\", \"IN\"),\n",
    "#     (\"the\", \"DT\"),\n",
    "#     (\"wall\", \"NN\")\n",
    "# ]\n",
    "sentence = \"There is floating a brick from the town of Byron\"\n",
    "tokenized = nltk.word_tokenize(sentence)\n",
    "tagged = nltk.pos_tag(tokenized)\n",
    "grammar = \"NP:{<DT>?<JJ>*<NN>}\" \n",
    "reg_parser = nltk.RegexpParser(grammar)\n",
    "# Reg_parser.parse(sentence)\n",
    "output = reg_parser.parse(sentence)\n",
    "output.draw()"
   ]
  },
  {
   "cell_type": "code",
   "execution_count": null,
   "metadata": {},
   "outputs": [],
   "source": []
  }
 ],
 "metadata": {
  "kernelspec": {
   "display_name": "Python 3",
   "language": "python",
   "name": "python3"
  },
  "language_info": {
   "codemirror_mode": {
    "name": "ipython",
    "version": 3
   },
   "file_extension": ".py",
   "mimetype": "text/x-python",
   "name": "python",
   "nbconvert_exporter": "python",
   "pygments_lexer": "ipython3",
   "version": "3.11.3"
  }
 },
 "nbformat": 4,
 "nbformat_minor": 2
}
