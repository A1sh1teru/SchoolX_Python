{
 "cells": [
  {
   "cell_type": "markdown",
   "metadata": {},
   "source": [
    "***Гибридный чат-бот***\n",
    "\n",
    "***Если запрос будет состоять меньше чем из трех слов, то использоваться будет TF-IDF (Lionelya Pepsi), иначе будет использоваться чат-бот, основанный на трансформере***"
   ]
  },
  {
   "cell_type": "code",
   "execution_count": null,
   "metadata": {},
   "outputs": [],
   "source": [
    "from sklearn.feature_extraction.text import CountVectorizer\n",
    "from sklearn.metrics.pairwise import cosine_similarity\n",
    "from sklearn.feature_extraction.text import TfidfVectorizer\n",
    "import numpy as np\n",
    "import pickle\n",
    "import csv\n",
    "import random\n",
    "from transformers import GPT2LMHeadModel, GPT2Tokenizer"
   ]
  },
  {
   "cell_type": "code",
   "execution_count": null,
   "metadata": {},
   "outputs": [],
   "source": [
    "def talk_to_lionelya_pepsi_primary(test_set_sentence):\n",
    "    csv_file_path = \"DataSet/chat_bot_df.csv\"\n",
    "    tfidf_vectorizer_pikle_path = \"DataSet/tfidf_vectorizer.pickle\"\n",
    "    tfidf_matrix_train_pikle_path =\"DataSet/tfidf_matrix_train.pickle\"\n",
    "\n",
    "    try:\n",
    "        with open(tfidf_vectorizer_pikle_path, 'rb') as f:\n",
    "            tfidf_vectorizer = pickle.load(f)\n",
    "        with open(tfidf_matrix_train_pikle_path, 'rb') as f:\n",
    "            tfidf_matrix_train = pickle.load(f)\n",
    "    except FileNotFoundError:\n",
    "        sentences = []\n",
    "        with open(csv_file_path, \"r\", encoding='utf-8') as sentences_file:\n",
    "            reader = csv.reader(sentences_file, delimiter=',')\n",
    "            for row in reader:\n",
    "                sentences.append(row[0])\n",
    "\n",
    "        tfidf_vectorizer = TfidfVectorizer()\n",
    "        tfidf_matrix_train = tfidf_vectorizer.fit_transform(sentences)\n",
    "\n",
    "        with open(tfidf_vectorizer_pikle_path, 'wb') as f:\n",
    "            pickle.dump(tfidf_vectorizer, f)\n",
    "        with open(tfidf_matrix_train_pikle_path, 'wb') as f:\n",
    "            pickle.dump(tfidf_matrix_train, f)\n",
    "\n",
    "    test_set = (test_set_sentence, \"\")\n",
    "    tfidf_matrix_test = tfidf_vectorizer.transform(test_set)\n",
    "    cosine = cosine_similarity(tfidf_matrix_test, tfidf_matrix_train)\n",
    "    cosine = np.delete(cosine, 0)\n",
    "\n",
    "    max_similarity = cosine.max()\n",
    "    response_index = 0\n",
    "    if max_similarity > 0.7:\n",
    "        new_max = max_similarity - 0.01\n",
    "        idx = np.where(cosine > new_max)\n",
    "        response_index = random.choice(idx[0])\n",
    "    else:\n",
    "        response_index = np.where(cosine == max_similarity)[0][0] + 2\n",
    "\n",
    "    with open(csv_file_path, \"r\", encoding='utf-8') as sentences_file:\n",
    "        reader = csv.reader(sentences_file, delimiter=',')\n",
    "        for idx, row in enumerate(reader, 1):\n",
    "            if idx == response_index:\n",
    "                return row[1], response_index\n",
    "            \n",
    "model_name = \"gpt2\"\n",
    "gpt2_model = GPT2LMHeadModel.from_pretrained(model_name)\n",
    "tokenizer = GPT2Tokenizer.from_pretrained(model_name)\n",
    "\n",
    "def generate_transformer_response(input_text):\n",
    "    input_ids = tokenizer.encode(input_text, return_tensors=\"pt\")\n",
    "    response = gpt2_model.generate(input_ids, max_length=100, num_return_sequences=1, no_repeat_ngram_size=2, top_k=50, top_p=0.95, temperature=0.7)\n",
    "    response_text = tokenizer.decode(response[0], skip_special_tokens=True)\n",
    "    return response_text\n",
    "\n",
    "def generate_hybrid_response(input_text):\n",
    "    if len(input_text.split()) < 3:\n",
    "        response = talk_to_lionelya_pepsi_primary(input_text)\n",
    "    else:\n",
    "        response = generate_transformer_response(input_text)\n",
    "    return response\n",
    "\n",
    "while True:\n",
    "    user_input = input(\"Ваш вопрос: \")\n",
    "    response = generate_hybrid_response(user_input)\n",
    "    print(\"Ответ чат-бота:\", response)"
   ]
  },
  {
   "cell_type": "code",
   "execution_count": null,
   "metadata": {},
   "outputs": [],
   "source": []
  }
 ],
 "metadata": {
  "kernelspec": {
   "display_name": "Python 3",
   "language": "python",
   "name": "python3"
  },
  "language_info": {
   "codemirror_mode": {
    "name": "ipython",
    "version": 3
   },
   "file_extension": ".py",
   "mimetype": "text/x-python",
   "name": "python",
   "nbconvert_exporter": "python",
   "pygments_lexer": "ipython3",
   "version": "3.11.3"
  }
 },
 "nbformat": 4,
 "nbformat_minor": 2
}
