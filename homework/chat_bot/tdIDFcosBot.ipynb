{
 "cells": [
  {
   "cell_type": "markdown",
   "metadata": {},
   "source": [
    "***Примитивный чат-бот, который способен отвечать на небольшое количество вопросов и простых сообщений на английском языке.***\n",
    "\n",
    "*Например: 'Hello', 'Hey', 'Hi', 'How old are you?', 'What is your name?', 'What can you do?' и т.д. *"
   ]
  },
  {
   "cell_type": "code",
   "execution_count": null,
   "metadata": {},
   "outputs": [],
   "source": [
    "from sklearn.feature_extraction.text import CountVectorizer\n",
    "from sklearn.metrics.pairwise import cosine_similarity\n",
    "from sklearn.feature_extraction.text import TfidfVectorizer\n",
    "import numpy as np\n",
    "import pickle\n",
    "import csv\n",
    "import random"
   ]
  },
  {
   "cell_type": "code",
   "execution_count": 2,
   "metadata": {},
   "outputs": [
    {
     "name": "stderr",
     "output_type": "stream",
     "text": [
      "C:\\Users\\velic\\AppData\\Local\\Temp\\ipykernel_4024\\4082830076.py:8: DeprecationWarning: Please use `csr_matrix` from the `scipy.sparse` namespace, the `scipy.sparse.csr` namespace is deprecated.\n",
      "  tfidf_vectorizer = pickle.load(f)\n",
      "c:\\Users\\velic\\AppData\\Local\\Programs\\Python\\Python311\\Lib\\site-packages\\sklearn\\base.py:348: InconsistentVersionWarning: Trying to unpickle estimator TfidfTransformer from version 0.24.0 when using version 1.3.2. This might lead to breaking code or invalid results. Use at your own risk. For more info please refer to:\n",
      "https://scikit-learn.org/stable/model_persistence.html#security-maintainability-limitations\n",
      "  warnings.warn(\n",
      "c:\\Users\\velic\\AppData\\Local\\Programs\\Python\\Python311\\Lib\\site-packages\\sklearn\\base.py:348: InconsistentVersionWarning: Trying to unpickle estimator TfidfVectorizer from version 0.24.0 when using version 1.3.2. This might lead to breaking code or invalid results. Use at your own risk. For more info please refer to:\n",
      "https://scikit-learn.org/stable/model_persistence.html#security-maintainability-limitations\n",
      "  warnings.warn(\n",
      "C:\\Users\\velic\\AppData\\Local\\Temp\\ipykernel_4024\\4082830076.py:10: DeprecationWarning: Please use `csr_matrix` from the `scipy.sparse` namespace, the `scipy.sparse.csr` namespace is deprecated.\n",
      "  tfidf_matrix_train = pickle.load(f)\n"
     ]
    },
    {
     "name": "stdout",
     "output_type": "stream",
     "text": [
      "here is afternoon !\n",
      "here is afternoon !\n",
      "here is afternoon !\n",
      "here is afternoon !\n",
      "here is afternoon !\n",
      "hi !  !  how are you ?  ?  .\n",
      "here is afternoon !\n"
     ]
    }
   ],
   "source": [
    "def talk_to_lionelya_pepsi_primary(test_set_sentence):\n",
    "    csv_file_path = \"DataSet/chat_bot_df.csv\"\n",
    "    tfidf_vectorizer_pikle_path = \"DataSet/tfidf_vectorizer.pickle\"\n",
    "    tfidf_matrix_train_pikle_path =\"DataSet/tfidf_matrix_train.pickle\"\n",
    "\n",
    "    try:\n",
    "        with open(tfidf_vectorizer_pikle_path, 'rb') as f:\n",
    "            tfidf_vectorizer = pickle.load(f)\n",
    "        with open(tfidf_matrix_train_pikle_path, 'rb') as f:\n",
    "            tfidf_matrix_train = pickle.load(f)\n",
    "    except FileNotFoundError:\n",
    "        sentences = []\n",
    "        with open(csv_file_path, \"r\", encoding='utf-8') as sentences_file:\n",
    "            reader = csv.reader(sentences_file, delimiter=',')\n",
    "            for row in reader:\n",
    "                sentences.append(row[0])\n",
    "\n",
    "        tfidf_vectorizer = TfidfVectorizer()\n",
    "        tfidf_matrix_train = tfidf_vectorizer.fit_transform(sentences)\n",
    "\n",
    "        with open(tfidf_vectorizer_pikle_path, 'wb') as f:\n",
    "            pickle.dump(tfidf_vectorizer, f)\n",
    "        with open(tfidf_matrix_train_pikle_path, 'wb') as f:\n",
    "            pickle.dump(tfidf_matrix_train, f)\n",
    "\n",
    "    test_set = (test_set_sentence, \"\")\n",
    "    tfidf_matrix_test = tfidf_vectorizer.transform(test_set)\n",
    "    cosine = cosine_similarity(tfidf_matrix_test, tfidf_matrix_train)\n",
    "    cosine = np.delete(cosine, 0)\n",
    "\n",
    "    max_similarity = cosine.max()\n",
    "    response_index = 0\n",
    "    if max_similarity > 0.7:\n",
    "        new_max = max_similarity - 0.01\n",
    "        idx = np.where(cosine > new_max)\n",
    "        response_index = random.choice(idx[0])\n",
    "    else:\n",
    "        response_index = np.where(cosine == max_similarity)[0][0] + 2\n",
    "\n",
    "    with open(csv_file_path, \"r\", encoding='utf-8') as sentences_file:\n",
    "        reader = csv.reader(sentences_file, delimiter=',')\n",
    "        for idx, row in enumerate(reader, 1):\n",
    "            if idx == response_index:\n",
    "                return row[1], response_index\n",
    "\n",
    "while True:\n",
    "    sentence = input(\"Talk to Lionelya Pepsi: \")\n",
    "    response_primary, line_id_primary = talk_to_lionelya_pepsi_primary(sentence)\n",
    "    print(response_primary)\n"
   ]
  },
  {
   "cell_type": "code",
   "execution_count": null,
   "metadata": {},
   "outputs": [],
   "source": []
  }
 ],
 "metadata": {
  "kernelspec": {
   "display_name": "Python 3",
   "language": "python",
   "name": "python3"
  },
  "language_info": {
   "codemirror_mode": {
    "name": "ipython",
    "version": 3
   },
   "file_extension": ".py",
   "mimetype": "text/x-python",
   "name": "python",
   "nbconvert_exporter": "python",
   "pygments_lexer": "ipython3",
   "version": "3.11.3"
  }
 },
 "nbformat": 4,
 "nbformat_minor": 2
}
