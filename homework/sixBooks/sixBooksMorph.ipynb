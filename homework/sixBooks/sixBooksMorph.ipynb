{
 "cells": [
  {
   "cell_type": "code",
   "execution_count": 6,
   "metadata": {},
   "outputs": [
    {
     "name": "stdout",
     "output_type": "stream",
     "text": [
      "Note: you may need to restart the kernel to use updated packages.\n"
     ]
    },
    {
     "name": "stderr",
     "output_type": "stream",
     "text": [
      "WARNING: You are using pip version 21.2.3; however, version 23.3.1 is available.\n",
      "You should consider upgrading via the 'c:\\Users\\velic\\AppData\\Local\\Programs\\Python\\Python310\\python.exe -m pip install --upgrade pip' command.\n"
     ]
    },
    {
     "name": "stdout",
     "output_type": "stream",
     "text": [
      "Note: you may need to restart the kernel to use updated packages.\n"
     ]
    },
    {
     "name": "stderr",
     "output_type": "stream",
     "text": [
      "WARNING: You are using pip version 21.2.3; however, version 23.3.1 is available.\n",
      "You should consider upgrading via the 'c:\\Users\\velic\\AppData\\Local\\Programs\\Python\\Python310\\python.exe -m pip install --upgrade pip' command.\n"
     ]
    },
    {
     "name": "stdout",
     "output_type": "stream",
     "text": [
      "Note: you may need to restart the kernel to use updated packages.\n"
     ]
    },
    {
     "name": "stderr",
     "output_type": "stream",
     "text": [
      "WARNING: You are using pip version 21.2.3; however, version 23.3.1 is available.\n",
      "You should consider upgrading via the 'c:\\Users\\velic\\AppData\\Local\\Programs\\Python\\Python310\\python.exe -m pip install --upgrade pip' command.\n"
     ]
    },
    {
     "name": "stdout",
     "output_type": "stream",
     "text": [
      "Note: you may need to restart the kernel to use updated packages.\n"
     ]
    },
    {
     "name": "stderr",
     "output_type": "stream",
     "text": [
      "\n",
      "Usage:   \n",
      "  c:\\Users\\velic\\AppData\\Local\\Programs\\Python\\Python310\\python.exe -m pip install [options] <requirement specifier> [package-index-options] ...\n",
      "  c:\\Users\\velic\\AppData\\Local\\Programs\\Python\\Python310\\python.exe -m pip install [options] -r <requirements file> [package-index-options] ...\n",
      "  c:\\Users\\velic\\AppData\\Local\\Programs\\Python\\Python310\\python.exe -m pip install [options] [-e] <vcs project url> ...\n",
      "  c:\\Users\\velic\\AppData\\Local\\Programs\\Python\\Python310\\python.exe -m pip install [options] [-e] <local project path> ...\n",
      "  c:\\Users\\velic\\AppData\\Local\\Programs\\Python\\Python310\\python.exe -m pip install [options] <archive url/path> ...\n",
      "\n",
      "no such option: -m\n"
     ]
    }
   ],
   "source": [
    "%pip install -q nltk\n",
    "%pip install -q pymorphy2\n",
    "%pip install -q spacy\n",
    "# %pip install -q spacy download ru_core_news_sm"
   ]
  },
  {
   "cell_type": "code",
   "execution_count": 11,
   "metadata": {},
   "outputs": [],
   "source": [
    "import nltk\n",
    "import pymorphy2\n",
    "import re\n",
    "import spacy"
   ]
  },
  {
   "cell_type": "code",
   "execution_count": 2,
   "metadata": {},
   "outputs": [],
   "source": [
    "with open('./krestyanskie_deti1861.txt', 'r', encoding='utf-8') as file:\n",
    "    book1861 = file.read()\n",
    "\n",
    "with open('./moroz_krasnyy_nos_1864.txt', 'r', encoding='ansi') as file:\n",
    "    book1864 = file.read()\n",
    "\n",
    "with open('./zheleznaya_doroga_1865.txt', 'r', encoding='ansi') as file:\n",
    "    book1865 = file.read()\n",
    "\n",
    "with open('./dedushka_mazay_i_zaycy_1871.txt', 'r', encoding='ansi') as file:\n",
    "    book1871 = file.read()\n",
    "\n",
    "with open('./russkie_zhenshiny_1872.txt', 'r', encoding='utf-8') as file:\n",
    "    book1872 = file.read()\n",
    "\n",
    "with open('./komu_na_rusi_zhit_horosho_1874.txt', 'r', encoding='utf-8') as file:\n",
    "    book1874 = file.read()"
   ]
  },
  {
   "cell_type": "code",
   "execution_count": 15,
   "metadata": {},
   "outputs": [
    {
     "name": "stdout",
     "output_type": "stream",
     "text": [
      "Лексическое разнообразие произведения \"Крестьянские дети\":\n",
      "0.6877243359655419\n",
      "Количество прилагательных в тексте: 749\n",
      "Количество уникальных прилагательных в тексте: 118\n",
      "Лексическое разнообразие прилагательных: 0.157543391188251\n",
      "Количество уникальных слов в тексте: 925\n",
      "925\n"
     ]
    },
    {
     "name": "stderr",
     "output_type": "stream",
     "text": [
      "[nltk_data] Downloading package punkt to\n",
      "[nltk_data]     C:\\Users\\velic\\AppData\\Roaming\\nltk_data...\n",
      "[nltk_data]   Package punkt is already up-to-date!\n"
     ]
    }
   ],
   "source": [
    "def word_tokenizer(book1861):\n",
    "    words = re.findall(r'\\w+', book1861)\n",
    "    return words\n",
    "\n",
    "print('Лексическое разнообразие произведения \"Крестьянские дети\":')\n",
    "tokens = word_tokenizer(book1861)\n",
    "wordsCount = len(tokens)\n",
    "uniqueWords = list(set(tokens))\n",
    "uniqueWordsCount = len(uniqueWords)\n",
    "ttr1861 = uniqueWordsCount/wordsCount\n",
    "print(ttr1861)\n",
    "\n",
    "\n",
    "morph = pymorphy2.MorphAnalyzer()\n",
    "\n",
    "tokens = word_tokenizer(book1861)\n",
    "\n",
    "countADJ = 0\n",
    "for token in tokens:\n",
    "    parsed_word = morph.parse(token)\n",
    "    for parsed in parsed_word:\n",
    "        if \"ADJF\" in parsed.tag:\n",
    "            countADJ += 1\n",
    "\n",
    "print(f'Количество прилагательных в тексте: {countADJ}')\n",
    "\n",
    "unique_adjectives = set()\n",
    "for token in tokens:\n",
    "    parsed_word = morph.parse(token)\n",
    "    for parsed in parsed_word:\n",
    "        if \"ADJF\" in parsed.tag:\n",
    "            unique_adjectives.add(parsed.normal_form)\n",
    "\n",
    "countUADJ = len(unique_adjectives)\n",
    "print(f'Количество уникальных прилагательных в тексте: {countUADJ}')\n",
    "\n",
    "ttrADJ = countUADJ/countADJ\n",
    "print('Лексическое разнообразие прилагательных:', ttrADJ)\n",
    "\n",
    "\n",
    "nltk.download('punkt')\n",
    "\n",
    "from nltk.tokenize import word_tokenize\n",
    "\n",
    "\n",
    "tokens = word_tokenize(book1861.lower())\n",
    "\n",
    "unique_words = set(tokens)\n",
    "count = len(unique_words)\n",
    "print(f\"Количество уникальных слов в тексте: {count}\")"
   ]
  },
  {
   "cell_type": "code",
   "execution_count": 5,
   "metadata": {},
   "outputs": [
    {
     "name": "stdout",
     "output_type": "stream",
     "text": [
      "Лексическое разнообразие произведения \"Мороз, Красный нос\":\n",
      "0.5918367346938775\n",
      "Количество прилагательных в тексте: 2559\n",
      "Количество уникальных прилагательных в тексте: 251\n",
      "Лексическое разнообразие прилагательных: 0.09808518952715904\n"
     ]
    }
   ],
   "source": [
    "def word_tokenizer(book1864):\n",
    "    words = re.findall(r'\\w+', book1864)\n",
    "    return words\n",
    "\n",
    "print('Лексическое разнообразие произведения \"Мороз, Красный нос\":')\n",
    "tokens = word_tokenizer(book1864)\n",
    "wordsCount = len(tokens)\n",
    "uniqueWords = list(set(tokens))\n",
    "uniqueWordsCount = len(uniqueWords)\n",
    "ttr1864 = uniqueWordsCount/wordsCount\n",
    "print(ttr1864)\n",
    "\n",
    "\n",
    "morph = pymorphy2.MorphAnalyzer()\n",
    "\n",
    "tokens = word_tokenizer(book1864)\n",
    "\n",
    "countADJ = 0\n",
    "for token in tokens:\n",
    "    parsed_word = morph.parse(token)\n",
    "    for parsed in parsed_word:\n",
    "        if \"ADJF\" in parsed.tag:\n",
    "            countADJ += 1\n",
    "\n",
    "print(f'Количество прилагательных в тексте: {countADJ}')\n",
    "\n",
    "unique_adjectives = set()\n",
    "for token in tokens:\n",
    "    parsed_word = morph.parse(token)\n",
    "    for parsed in parsed_word:\n",
    "        if \"ADJF\" in parsed.tag:\n",
    "            unique_adjectives.add(parsed.normal_form)\n",
    "\n",
    "countUADJ = len(unique_adjectives)\n",
    "print(f'Количество уникальных прилагательных в тексте: {countUADJ}')\n",
    "\n",
    "ttrADJ = countUADJ/countADJ\n",
    "print('Лексическое разнообразие прилагательных:', ttrADJ)"
   ]
  },
  {
   "cell_type": "code",
   "execution_count": 6,
   "metadata": {},
   "outputs": [
    {
     "name": "stdout",
     "output_type": "stream",
     "text": [
      "Лексическое разнообразие произведения \"Железная дорога\":\n",
      "0.7598944591029023\n",
      "Количество прилагательных в тексте: 336\n",
      "Количество уникальных прилагательных в тексте: 79\n",
      "Лексическое разнообразие прилагательных: 0.23511904761904762\n"
     ]
    }
   ],
   "source": [
    "def word_tokenizer(book1865):\n",
    "    words = re.findall(r'\\w+', book1865)\n",
    "    return words\n",
    "\n",
    "print('Лексическое разнообразие произведения \"Железная дорога\":')\n",
    "tokens = word_tokenizer(book1865)\n",
    "wordsCount = len(tokens)\n",
    "uniqueWords = list(set(tokens))\n",
    "uniqueWordsCount = len(uniqueWords)\n",
    "ttr1865 = uniqueWordsCount/wordsCount\n",
    "print(ttr1865)\n",
    "\n",
    "\n",
    "morph = pymorphy2.MorphAnalyzer()\n",
    "\n",
    "tokens = word_tokenizer(book1865)\n",
    "\n",
    "countADJ = 0\n",
    "for token in tokens:\n",
    "    parsed_word = morph.parse(token)\n",
    "    for parsed in parsed_word:\n",
    "        if \"ADJF\" in parsed.tag:\n",
    "            countADJ += 1\n",
    "\n",
    "print(f'Количество прилагательных в тексте: {countADJ}')\n",
    "\n",
    "unique_adjectives = set()\n",
    "for token in tokens:\n",
    "    parsed_word = morph.parse(token)\n",
    "    for parsed in parsed_word:\n",
    "        if \"ADJF\" in parsed.tag:\n",
    "            unique_adjectives.add(parsed.normal_form)\n",
    "\n",
    "countUADJ = len(unique_adjectives)\n",
    "print(f'Количество уникальных прилагательных в тексте: {countUADJ}')\n",
    "\n",
    "ttrADJ = countUADJ/countADJ\n",
    "print('Лексическое разнообразие прилагательных:', ttrADJ)"
   ]
  },
  {
   "cell_type": "code",
   "execution_count": 7,
   "metadata": {},
   "outputs": [
    {
     "name": "stdout",
     "output_type": "stream",
     "text": [
      "Лексическое разнообразие произведения \"Дедушка Мазай и зайцы\":\n",
      "0.7258485639686684\n",
      "Количество прилагательных в тексте: 639\n",
      "Количество уникальных прилагательных в тексте: 48\n",
      "Лексическое разнообразие прилагательных: 0.07511737089201878\n"
     ]
    }
   ],
   "source": [
    "def word_tokenizer(book1871):\n",
    "    words = re.findall(r'\\w+', book1871)\n",
    "    return words\n",
    "\n",
    "print('Лексическое разнообразие произведения \"Дедушка Мазай и зайцы\":')\n",
    "tokens = word_tokenizer(book1871)\n",
    "wordsCount = len(tokens)\n",
    "uniqueWords = list(set(tokens))\n",
    "uniqueWordsCount = len(uniqueWords)\n",
    "ttr1871 = uniqueWordsCount/wordsCount\n",
    "print(ttr1871)\n",
    "\n",
    "\n",
    "morph = pymorphy2.MorphAnalyzer()\n",
    "\n",
    "tokens = word_tokenizer(book1871)\n",
    "\n",
    "countADJ = 0\n",
    "for token in tokens:\n",
    "    parsed_word = morph.parse(token)\n",
    "    for parsed in parsed_word:\n",
    "        if \"ADJF\" in parsed.tag:\n",
    "            countADJ += 1\n",
    "\n",
    "print(f'Количество прилагательных в тексте: {countADJ}')\n",
    "\n",
    "unique_adjectives = set()\n",
    "for token in tokens:\n",
    "    parsed_word = morph.parse(token)\n",
    "    for parsed in parsed_word:\n",
    "        if \"ADJF\" in parsed.tag:\n",
    "            unique_adjectives.add(parsed.normal_form)\n",
    "\n",
    "countUADJ = len(unique_adjectives)\n",
    "print(f'Количество уникальных прилагательных в тексте: {countUADJ}')\n",
    "\n",
    "ttrADJ = countUADJ/countADJ\n",
    "print('Лексическое разнообразие прилагательных:', ttrADJ)"
   ]
  },
  {
   "cell_type": "code",
   "execution_count": 8,
   "metadata": {},
   "outputs": [
    {
     "name": "stdout",
     "output_type": "stream",
     "text": [
      "Лексическое разнообразие произведения \"Русские женщины\":\n",
      "0.45311400422237863\n",
      "Количество прилагательных в тексте: 6903\n",
      "Количество уникальных прилагательных в тексте: 451\n",
      "Лексическое разнообразие прилагательных: 0.06533391279153991\n"
     ]
    }
   ],
   "source": [
    "def word_tokenizer(book1872):\n",
    "    words = re.findall(r'\\w+', book1872)\n",
    "    return words\n",
    "\n",
    "print('Лексическое разнообразие произведения \"Русские женщины\":')\n",
    "tokens = word_tokenizer(book1872)\n",
    "wordsCount = len(tokens)\n",
    "uniqueWords = list(set(tokens))\n",
    "uniqueWordsCount = len(uniqueWords)\n",
    "ttr1872 = uniqueWordsCount/wordsCount\n",
    "print(ttr1872)\n",
    "\n",
    "\n",
    "morph = pymorphy2.MorphAnalyzer()\n",
    "\n",
    "tokens = word_tokenizer(book1872)\n",
    "\n",
    "countADJ = 0\n",
    "for token in tokens:\n",
    "    parsed_word = morph.parse(token)\n",
    "    for parsed in parsed_word:\n",
    "        if \"ADJF\" in parsed.tag:\n",
    "            countADJ += 1\n",
    "\n",
    "print(f'Количество прилагательных в тексте: {countADJ}')\n",
    "\n",
    "unique_adjectives = set()\n",
    "for token in tokens:\n",
    "    parsed_word = morph.parse(token)\n",
    "    for parsed in parsed_word:\n",
    "        if \"ADJF\" in parsed.tag:\n",
    "            unique_adjectives.add(parsed.normal_form)\n",
    "\n",
    "countUADJ = len(unique_adjectives)\n",
    "print(f'Количество уникальных прилагательных в тексте: {countUADJ}')\n",
    "\n",
    "ttrADJ = countUADJ/countADJ\n",
    "print('Лексическое разнообразие прилагательных:', ttrADJ)"
   ]
  },
  {
   "cell_type": "code",
   "execution_count": 9,
   "metadata": {},
   "outputs": [
    {
     "name": "stdout",
     "output_type": "stream",
     "text": [
      "Лексическое разнообразие произведения \"Кому на Руси жить хорошо\":\n",
      "0.40199765706886986\n",
      "Количество прилагательных в тексте: 15403\n",
      "Количество уникальных прилагательных в тексте: 1120\n",
      "Лексическое разнообразие прилагательных: 0.07271310783613581\n"
     ]
    }
   ],
   "source": [
    "def word_tokenizer(book1874):\n",
    "    words = re.findall(r'\\w+', book1874)\n",
    "    return words\n",
    "\n",
    "print('Лексическое разнообразие произведения \"Кому на Руси жить хорошо\":')\n",
    "tokens = word_tokenizer(book1874)\n",
    "wordsCount = len(tokens)\n",
    "uniqueWords = list(set(tokens))\n",
    "uniqueWordsCount = len(uniqueWords)\n",
    "ttr1874 = uniqueWordsCount/wordsCount\n",
    "print(ttr1874)\n",
    "\n",
    "\n",
    "morph = pymorphy2.MorphAnalyzer()\n",
    "\n",
    "tokens = word_tokenizer(book1874)\n",
    "\n",
    "countADJ = 0\n",
    "for token in tokens:\n",
    "    parsed_word = morph.parse(token)\n",
    "    for parsed in parsed_word:\n",
    "        if \"ADJF\" in parsed.tag:\n",
    "            countADJ += 1\n",
    "\n",
    "print(f'Количество прилагательных в тексте: {countADJ}')\n",
    "\n",
    "unique_adjectives = set()\n",
    "for token in tokens:\n",
    "    parsed_word = morph.parse(token)\n",
    "    for parsed in parsed_word:\n",
    "        if \"ADJF\" in parsed.tag:\n",
    "            unique_adjectives.add(parsed.normal_form)\n",
    "\n",
    "countUADJ = len(unique_adjectives)\n",
    "print(f'Количество уникальных прилагательных в тексте: {countUADJ}')\n",
    "\n",
    "ttrADJ = countUADJ/countADJ\n",
    "print('Лексическое разнообразие прилагательных:', ttrADJ)"
   ]
  },
  {
   "cell_type": "code",
   "execution_count": null,
   "metadata": {},
   "outputs": [],
   "source": []
  }
 ],
 "metadata": {
  "kernelspec": {
   "display_name": "Python 3",
   "language": "python",
   "name": "python3"
  },
  "language_info": {
   "codemirror_mode": {
    "name": "ipython",
    "version": 3
   },
   "file_extension": ".py",
   "mimetype": "text/x-python",
   "name": "python",
   "nbconvert_exporter": "python",
   "pygments_lexer": "ipython3",
   "version": "3.10.0"
  }
 },
 "nbformat": 4,
 "nbformat_minor": 2
}
