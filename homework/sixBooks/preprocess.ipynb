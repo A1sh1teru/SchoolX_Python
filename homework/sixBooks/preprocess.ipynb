{
 "cells": [
  {
   "cell_type": "code",
   "execution_count": 103,
   "metadata": {},
   "outputs": [
    {
     "name": "stdout",
     "output_type": "stream",
     "text": [
      "Requirement already satisfied: scikit-learn in c:\\users\\velic\\appdata\\local\\programs\\python\\python311\\lib\\site-packages (1.3.2)\n",
      "Requirement already satisfied: numpy<2.0,>=1.17.3 in c:\\users\\velic\\appdata\\local\\programs\\python\\python311\\lib\\site-packages (from scikit-learn) (1.26.1)\n",
      "Requirement already satisfied: scipy>=1.5.0 in c:\\users\\velic\\appdata\\local\\programs\\python\\python311\\lib\\site-packages (from scikit-learn) (1.11.3)\n",
      "Requirement already satisfied: joblib>=1.1.1 in c:\\users\\velic\\appdata\\local\\programs\\python\\python311\\lib\\site-packages (from scikit-learn) (1.3.2)\n",
      "Requirement already satisfied: threadpoolctl>=2.0.0 in c:\\users\\velic\\appdata\\local\\programs\\python\\python311\\lib\\site-packages (from scikit-learn) (3.2.0)\n",
      "Note: you may need to restart the kernel to use updated packages.\n"
     ]
    }
   ],
   "source": [
    "%pip install -U scikit-learn"
   ]
  },
  {
   "cell_type": "code",
   "execution_count": 104,
   "metadata": {},
   "outputs": [],
   "source": [
    "from sklearn.feature_extraction.text import CountVectorizer\n",
    "from sklearn.metrics.pairwise import cosine_similarity\n",
    "import pandas as pd\n",
    "import nltk\n",
    "from nltk import word_tokenize\n",
    "from nltk.corpus import stopwords"
   ]
  },
  {
   "cell_type": "code",
   "execution_count": 105,
   "metadata": {},
   "outputs": [
    {
     "name": "stderr",
     "output_type": "stream",
     "text": [
      "[nltk_data] Downloading package stopwords to\n",
      "[nltk_data]     C:\\Users\\velic\\AppData\\Roaming\\nltk_data...\n",
      "[nltk_data]   Package stopwords is already up-to-date!\n"
     ]
    }
   ],
   "source": [
    "with open('./krestyanskie_deti1861.txt', 'r', encoding='utf-8') as file:\n",
    "    book1861 = file.read()\n",
    "\n",
    "with open('./moroz_krasnyy_nos_1864.txt', 'r', encoding='ansi') as file:\n",
    "    book1864 = file.read()\n",
    "\n",
    "with open('./zheleznaya_doroga_1865.txt', 'r', encoding='ansi') as file:\n",
    "    book1865 = file.read()\n",
    "\n",
    "with open('./dedushka_mazay_i_zaycy_1871.txt', 'r', encoding='ansi') as file:\n",
    "    book1871 = file.read()\n",
    "\n",
    "with open('./russkie_zhenshiny_1872.txt', 'r', encoding='utf-8') as file:\n",
    "    book1872 = file.read()\n",
    "\n",
    "with open('./komu_na_rusi_zhit_horosho_1874.txt', 'r', encoding='utf-8') as file:\n",
    "    book1874 = file.read()\n",
    "\n",
    "nltk.download(\"stopwords\")\n",
    "stop_words = set(stopwords.words(\"russian\"))"
   ]
  },
  {
   "cell_type": "code",
   "execution_count": 106,
   "metadata": {},
   "outputs": [
    {
     "name": "stdout",
     "output_type": "stream",
     "text": [
      "Таблица со значениями косинусного сходства книг:\n"
     ]
    },
    {
     "data": {
      "text/html": [
       "<style type=\"text/css\">\n",
       "#T_1cb09 th {\n",
       "  background-color: black;\n",
       "  color: blue;\n",
       "  font-weight: bold;\n",
       "}\n",
       "#T_1cb09_row0_col0, #T_1cb09_row0_col1, #T_1cb09_row0_col2, #T_1cb09_row0_col3, #T_1cb09_row0_col4, #T_1cb09_row0_col5, #T_1cb09_row1_col0, #T_1cb09_row1_col1, #T_1cb09_row1_col2, #T_1cb09_row1_col3, #T_1cb09_row1_col4, #T_1cb09_row1_col5, #T_1cb09_row2_col0, #T_1cb09_row2_col1, #T_1cb09_row2_col2, #T_1cb09_row2_col3, #T_1cb09_row2_col4, #T_1cb09_row2_col5, #T_1cb09_row3_col0, #T_1cb09_row3_col1, #T_1cb09_row3_col2, #T_1cb09_row3_col3, #T_1cb09_row3_col4, #T_1cb09_row3_col5, #T_1cb09_row4_col0, #T_1cb09_row4_col1, #T_1cb09_row4_col2, #T_1cb09_row4_col3, #T_1cb09_row4_col4, #T_1cb09_row4_col5, #T_1cb09_row5_col0, #T_1cb09_row5_col1, #T_1cb09_row5_col2, #T_1cb09_row5_col3, #T_1cb09_row5_col4, #T_1cb09_row5_col5 {\n",
       "  background-color: black;\n",
       "  color: white;\n",
       "}\n",
       "</style>\n",
       "<table id=\"T_1cb09\">\n",
       "  <thead>\n",
       "    <tr>\n",
       "      <th class=\"blank level0\" >&nbsp;</th>\n",
       "      <th id=\"T_1cb09_level0_col0\" class=\"col_heading level0 col0\" >book1861</th>\n",
       "      <th id=\"T_1cb09_level0_col1\" class=\"col_heading level0 col1\" >book1864</th>\n",
       "      <th id=\"T_1cb09_level0_col2\" class=\"col_heading level0 col2\" >book1865</th>\n",
       "      <th id=\"T_1cb09_level0_col3\" class=\"col_heading level0 col3\" >book1871</th>\n",
       "      <th id=\"T_1cb09_level0_col4\" class=\"col_heading level0 col4\" >book1872</th>\n",
       "      <th id=\"T_1cb09_level0_col5\" class=\"col_heading level0 col5\" >book1874</th>\n",
       "    </tr>\n",
       "  </thead>\n",
       "  <tbody>\n",
       "    <tr>\n",
       "      <th id=\"T_1cb09_level0_row0\" class=\"row_heading level0 row0\" >book1861</th>\n",
       "      <td id=\"T_1cb09_row0_col0\" class=\"data row0 col0\" >1.000000</td>\n",
       "      <td id=\"T_1cb09_row0_col1\" class=\"data row0 col1\" >0.366797</td>\n",
       "      <td id=\"T_1cb09_row0_col2\" class=\"data row0 col2\" >0.164133</td>\n",
       "      <td id=\"T_1cb09_row0_col3\" class=\"data row0 col3\" >0.174379</td>\n",
       "      <td id=\"T_1cb09_row0_col4\" class=\"data row0 col4\" >0.379696</td>\n",
       "      <td id=\"T_1cb09_row0_col5\" class=\"data row0 col5\" >0.420875</td>\n",
       "    </tr>\n",
       "    <tr>\n",
       "      <th id=\"T_1cb09_level0_row1\" class=\"row_heading level0 row1\" >book1864</th>\n",
       "      <td id=\"T_1cb09_row1_col0\" class=\"data row1 col0\" >0.366797</td>\n",
       "      <td id=\"T_1cb09_row1_col1\" class=\"data row1 col1\" >1.000000</td>\n",
       "      <td id=\"T_1cb09_row1_col2\" class=\"data row1 col2\" >0.217492</td>\n",
       "      <td id=\"T_1cb09_row1_col3\" class=\"data row1 col3\" >0.237175</td>\n",
       "      <td id=\"T_1cb09_row1_col4\" class=\"data row1 col4\" >0.578581</td>\n",
       "      <td id=\"T_1cb09_row1_col5\" class=\"data row1 col5\" >0.573883</td>\n",
       "    </tr>\n",
       "    <tr>\n",
       "      <th id=\"T_1cb09_level0_row2\" class=\"row_heading level0 row2\" >book1865</th>\n",
       "      <td id=\"T_1cb09_row2_col0\" class=\"data row2 col0\" >0.164133</td>\n",
       "      <td id=\"T_1cb09_row2_col1\" class=\"data row2 col1\" >0.217492</td>\n",
       "      <td id=\"T_1cb09_row2_col2\" class=\"data row2 col2\" >1.000000</td>\n",
       "      <td id=\"T_1cb09_row2_col3\" class=\"data row2 col3\" >0.130637</td>\n",
       "      <td id=\"T_1cb09_row2_col4\" class=\"data row2 col4\" >0.248236</td>\n",
       "      <td id=\"T_1cb09_row2_col5\" class=\"data row2 col5\" >0.262229</td>\n",
       "    </tr>\n",
       "    <tr>\n",
       "      <th id=\"T_1cb09_level0_row3\" class=\"row_heading level0 row3\" >book1871</th>\n",
       "      <td id=\"T_1cb09_row3_col0\" class=\"data row3 col0\" >0.174379</td>\n",
       "      <td id=\"T_1cb09_row3_col1\" class=\"data row3 col1\" >0.237175</td>\n",
       "      <td id=\"T_1cb09_row3_col2\" class=\"data row3 col2\" >0.130637</td>\n",
       "      <td id=\"T_1cb09_row3_col3\" class=\"data row3 col3\" >1.000000</td>\n",
       "      <td id=\"T_1cb09_row3_col4\" class=\"data row3 col4\" >0.210295</td>\n",
       "      <td id=\"T_1cb09_row3_col5\" class=\"data row3 col5\" >0.266584</td>\n",
       "    </tr>\n",
       "    <tr>\n",
       "      <th id=\"T_1cb09_level0_row4\" class=\"row_heading level0 row4\" >book1872</th>\n",
       "      <td id=\"T_1cb09_row4_col0\" class=\"data row4 col0\" >0.379696</td>\n",
       "      <td id=\"T_1cb09_row4_col1\" class=\"data row4 col1\" >0.578581</td>\n",
       "      <td id=\"T_1cb09_row4_col2\" class=\"data row4 col2\" >0.248236</td>\n",
       "      <td id=\"T_1cb09_row4_col3\" class=\"data row4 col3\" >0.210295</td>\n",
       "      <td id=\"T_1cb09_row4_col4\" class=\"data row4 col4\" >1.000000</td>\n",
       "      <td id=\"T_1cb09_row4_col5\" class=\"data row4 col5\" >0.644611</td>\n",
       "    </tr>\n",
       "    <tr>\n",
       "      <th id=\"T_1cb09_level0_row5\" class=\"row_heading level0 row5\" >book1874</th>\n",
       "      <td id=\"T_1cb09_row5_col0\" class=\"data row5 col0\" >0.420875</td>\n",
       "      <td id=\"T_1cb09_row5_col1\" class=\"data row5 col1\" >0.573883</td>\n",
       "      <td id=\"T_1cb09_row5_col2\" class=\"data row5 col2\" >0.262229</td>\n",
       "      <td id=\"T_1cb09_row5_col3\" class=\"data row5 col3\" >0.266584</td>\n",
       "      <td id=\"T_1cb09_row5_col4\" class=\"data row5 col4\" >0.644611</td>\n",
       "      <td id=\"T_1cb09_row5_col5\" class=\"data row5 col5\" >1.000000</td>\n",
       "    </tr>\n",
       "  </tbody>\n",
       "</table>\n"
      ],
      "text/plain": [
       "<pandas.io.formats.style.Styler at 0x171d2aa7dd0>"
      ]
     },
     "execution_count": 106,
     "metadata": {},
     "output_type": "execute_result"
    }
   ],
   "source": [
    "def preprocess_text(text):\n",
    "    tokens = word_tokenize(text)\n",
    "    text = \" \".join([word for word in tokens if word not in stop_words])\n",
    "    return text\n",
    "\n",
    "def calculate_similarity(texts):\n",
    "    preprocessed_texts = [preprocess_text(text) for text in texts]\n",
    "\n",
    "    vectorizer = CountVectorizer()\n",
    "    text_vectors = vectorizer.fit_transform(preprocessed_texts)\n",
    "\n",
    "    similarity_matrix = cosine_similarity(text_vectors)\n",
    "    return similarity_matrix\n",
    "\n",
    "texts = [\n",
    "    book1861,\n",
    "    book1864,\n",
    "    book1865,\n",
    "    book1871,\n",
    "    book1872,\n",
    "    book1874\n",
    "]\n",
    "\n",
    "textsNames = [\n",
    "    'book1861',\n",
    "    'book1864',\n",
    "    'book1865',\n",
    "    'book1871',\n",
    "    'book1872',\n",
    "    'book1874'\n",
    "]\n",
    "\n",
    "similarity_matrix = calculate_similarity(texts)\n",
    "\n",
    "df = pd.DataFrame(similarity_matrix, index=textsNames, columns=textsNames)\n",
    "\n",
    "def styled_dataframe(dataframe):\n",
    "    return (\n",
    "        dataframe.style\n",
    "        .set_properties(**{'background-color': 'black', 'color': 'white'})\n",
    "        .set_table_styles([\n",
    "            {'selector': 'th', 'props': [('background-color', 'black'), ('color', 'blue'), ('font-weight', 'bold')]},\n",
    "        ])\n",
    "    )\n",
    "\n",
    "print('Таблица со значениями косинусного сходства книг:')\n",
    "styled_dataframe(df)\n"
   ]
  }
 ],
 "metadata": {
  "kernelspec": {
   "display_name": "Python 3",
   "language": "python",
   "name": "python3"
  },
  "language_info": {
   "codemirror_mode": {
    "name": "ipython",
    "version": 3
   },
   "file_extension": ".py",
   "mimetype": "text/x-python",
   "name": "python",
   "nbconvert_exporter": "python",
   "pygments_lexer": "ipython3",
   "version": "3.11.3"
  }
 },
 "nbformat": 4,
 "nbformat_minor": 2
}
