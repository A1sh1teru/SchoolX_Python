{
 "cells": [
  {
   "cell_type": "markdown",
   "id": "a846160b",
   "metadata": {},
   "source": [
    "## Предварительная обработка"
   ]
  },
  {
   "cell_type": "markdown",
   "id": "92bfcc2b",
   "metadata": {},
   "source": [
    "### Импорт библиотек, загрузка файла"
   ]
  },
  {
   "cell_type": "code",
   "execution_count": null,
   "id": "67c26544",
   "metadata": {},
   "outputs": [],
   "source": [
    "import nltk\n",
    "import nltk.tokenize\n",
    "import timeit"
   ]
  },
  {
   "cell_type": "code",
   "execution_count": null,
   "id": "969b61be",
   "metadata": {},
   "outputs": [],
   "source": [
    "text='''William James Adams is an American rapper, singer, actor, song-writer, hip-hop artist, music composer and record producer professionally known by his pseudonym will.i.am. \n",
    "He is the founding member of the \"Black Eyed Peas\" group. will.i.am has also appeared as an actor in the role of John Wrath in the film X- Men Origins, given voice to the character Moto Moto in \"Madagascar: Escape2 Africa\" and as the rapping red crested cardinal Pedro in the animated films \"Rio\" and \"Rio 2\".\n",
    "He contributed his voice for the \"X- Men Origins: Wolverine\" video game. \n",
    "William is the recipient of seven Grammy Awards, one Latin Grammy, ten Television Rack and two Daytime Emmy Awards. He is also a record producer and has collaborated and produced music with stars like Usher, Ke$ha, Priyanka Chopra, Snoop Dogg, Cheryl Cole, Nicki Minaj, Britney Spears, Justin Bieber, Carlos Santana, Ricky Martin, Lady Gaga, Miley Cyrusto name a few. William was born and raised single handedly by his mother in a ghetto and the family was heavily dependent on welfare funds. However, after gaining success for his music he moved his family out of the ghetto.'''\n"
   ]
  },
  {
   "cell_type": "code",
   "execution_count": null,
   "id": "f959b7df",
   "metadata": {},
   "outputs": [],
   "source": [
    "text.split()"
   ]
  },
  {
   "cell_type": "code",
   "execution_count": null,
   "id": "c318ca31",
   "metadata": {},
   "outputs": [],
   "source": [
    "list(text)"
   ]
  },
  {
   "cell_type": "code",
   "execution_count": null,
   "id": "2c045a29",
   "metadata": {},
   "outputs": [],
   "source": [
    "sentences = nltk.tokenize.sent_tokenize(text)\n",
    "sentences"
   ]
  },
  {
   "cell_type": "markdown",
   "id": "58375644",
   "metadata": {},
   "source": [
    "### Применяем токенизаторы"
   ]
  },
  {
   "cell_type": "markdown",
   "id": "7dbd0374",
   "metadata": {},
   "source": [
    "*WhitespaceTokenizer*"
   ]
  },
  {
   "cell_type": "code",
   "execution_count": null,
   "id": "5b35d241",
   "metadata": {},
   "outputs": [],
   "source": [
    "start_time = timeit.default_timer()\n",
    "\n",
    "whitespace = nltk.tokenize.WhitespaceTokenizer()\n",
    "print(whitespace.tokenize(text))\n",
    "\n",
    "print(timeit.default_timer() - start_time)"
   ]
  },
  {
   "cell_type": "markdown",
   "id": "4fc3b4fd",
   "metadata": {},
   "source": [
    "*WordPunctTokenizer*"
   ]
  },
  {
   "cell_type": "code",
   "execution_count": null,
   "id": "293c5436",
   "metadata": {},
   "outputs": [],
   "source": [
    "start_time = timeit.default_timer()\n",
    "\n",
    "wordpunct = nltk.tokenize.WordPunctTokenizer()\n",
    "print(wordpunct.tokenize(text))\n",
    "\n",
    "print(timeit.default_timer() - start_time)"
   ]
  },
  {
   "cell_type": "markdown",
   "id": "2e4af461",
   "metadata": {},
   "source": [
    "*NLTKWordTokenizer*"
   ]
  },
  {
   "cell_type": "code",
   "execution_count": null,
   "id": "e12648f0",
   "metadata": {},
   "outputs": [],
   "source": [
    "start_time = timeit.default_timer()\n",
    "\n",
    "word_tok = nltk.tokenize.NLTKWordTokenizer()\n",
    "print(word_tok.tokenize(text))\n",
    "\n",
    "print(timeit.default_timer() - start_time)"
   ]
  },
  {
   "cell_type": "markdown",
   "id": "a75a0569",
   "metadata": {},
   "source": [
    "## spacy\n",
    "*python -m spacy download en_core_web_sm*\n",
    "\n",
    "*python -m spacy download ru_core_news_sm*"
   ]
  },
  {
   "cell_type": "code",
   "execution_count": null,
   "id": "deddb1ad",
   "metadata": {},
   "outputs": [],
   "source": [
    "import spacy"
   ]
  },
  {
   "cell_type": "code",
   "execution_count": null,
   "id": "3b27b149",
   "metadata": {},
   "outputs": [],
   "source": [
    "model = spacy.load('en_core_web_sm')\n",
    "doc = model(text)\n",
    "tokens = [token.text for token in doc]\n",
    "tokens"
   ]
  },
  {
   "cell_type": "code",
   "execution_count": null,
   "id": "47e0f050",
   "metadata": {},
   "outputs": [],
   "source": []
  }
 ],
 "metadata": {
  "kernelspec": {
   "display_name": "Python 3 (ipykernel)",
   "language": "python",
   "name": "python3"
  },
  "language_info": {
   "codemirror_mode": {
    "name": "ipython",
    "version": 3
   },
   "file_extension": ".py",
   "mimetype": "text/x-python",
   "name": "python",
   "nbconvert_exporter": "python",
   "pygments_lexer": "ipython3",
   "version": "3.9.13"
  }
 },
 "nbformat": 4,
 "nbformat_minor": 5
}
