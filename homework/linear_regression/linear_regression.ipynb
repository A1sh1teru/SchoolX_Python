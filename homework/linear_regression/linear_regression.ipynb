{
 "cells": [
  {
   "cell_type": "markdown",
   "metadata": {},
   "source": [
    "### Цель задания: определить стоимость страховки пациента"
   ]
  },
  {
   "cell_type": "code",
   "execution_count": 1,
   "metadata": {},
   "outputs": [],
   "source": [
    "import pandas as pd\n",
    "import numpy as np\n",
    "from sklearn.metrics import mean_squared_error\n",
    "from sklearn.preprocessing import OneHotEncoder, LabelEncoder\n",
    "from sklearn.preprocessing import StandardScaler\n",
    "import matplotlib.pyplot as plt"
   ]
  },
  {
   "cell_type": "code",
   "execution_count": 2,
   "metadata": {},
   "outputs": [],
   "source": [
    "df = pd.read_csv(\"insurance.csv\")"
   ]
  },
  {
   "cell_type": "code",
   "execution_count": 3,
   "metadata": {},
   "outputs": [],
   "source": [
    "label_encoder = LabelEncoder()\n",
    "df[['sex', 'smoker', 'region']] = df[['sex', 'smoker', 'region']].apply(label_encoder.fit_transform)\n",
    "enc = OneHotEncoder()\n",
    "X_cat = enc.fit_transform(df[['sex', 'smoker', 'region']]).toarray()\n",
    "X_num = df[['age', 'bmi', 'children']].values\n",
    "X = np.concatenate([X_num, X_cat], axis=1)\n",
    "df = df.assign(expenses=df['bmi'] )\n",
    "y = df['expenses'].values"
   ]
  },
  {
   "cell_type": "code",
   "execution_count": 4,
   "metadata": {},
   "outputs": [],
   "source": [
    "scaler = StandardScaler()\n",
    "X = scaler.fit_transform(X)\n",
    "X = np.c_[np.ones(X.shape[0]), X]"
   ]
  },
  {
   "cell_type": "code",
   "execution_count": 5,
   "metadata": {},
   "outputs": [],
   "source": [
    "def mserror(y, y_pred):\n",
    "    return np.mean((y - y_pred) ** 2)"
   ]
  },
  {
   "cell_type": "code",
   "execution_count": 6,
   "metadata": {},
   "outputs": [],
   "source": [
    "def normal_equation(X, y):\n",
    "    w = np.linalg.pinv(X.T @ X) @ X.T @ y\n",
    "    return w"
   ]
  },
  {
   "cell_type": "code",
   "execution_count": 7,
   "metadata": {},
   "outputs": [],
   "source": [
    "def gradient_descent(X, y, w_init, eta=0.01, max_iter=1e4, min_weight_dist=1e-8, verbose=False):\n",
    "    w = w_init\n",
    "    for _ in range(int(max_iter)):\n",
    "        grad = 2 * X.T @ (X @ w - y) / len(y)\n",
    "        w -= eta * grad\n",
    "        if np.linalg.norm(eta * grad) < min_weight_dist:\n",
    "            break\n",
    "    return w"
   ]
  },
  {
   "cell_type": "code",
   "execution_count": 8,
   "metadata": {},
   "outputs": [
    {
     "name": "stdout",
     "output_type": "stream",
     "text": [
      "RMSE: 0.0050590886027130815\n",
      "MSE: 2.5594377490101402e-05\n",
      "[ 3.06633969e+01  9.02056208e-17  6.09590764e+00 -1.04083409e-16\n",
      " -1.93195318e-01 -1.88192173e-01 -1.94222691e-03 -1.95788889e-03\n",
      "  4.49313101e-03  4.66354241e-03  5.23837062e-03  4.23788370e-03]\n"
     ]
    }
   ],
   "source": [
    "w_start = np.zeros(X.shape[1])\n",
    "w = normal_equation(X, y)\n",
    "y_pred = X @ w\n",
    "rmse_val = mean_squared_error(y, y_pred, squared=False)\n",
    "mse_val = mean_squared_error(y, y_pred, squared=True)\n",
    "print(f'RMSE: {rmse_val}')\n",
    "print(f'MSE: {mse_val}')\n",
    "print(w)"
   ]
  },
  {
   "cell_type": "code",
   "execution_count": 9,
   "metadata": {},
   "outputs": [
    {
     "data": {
      "image/png": "[encoded data removed]",
      "text/plain": [
       "<Figure size 640x480 with 1 Axes>"
      ]
     },
     "metadata": {},
     "output_type": "display_data"
    }
   ],
   "source": [
    "errors = []\n",
    "max_iter = 1000\n",
    "w = gradient_descent(X, y, w_start, eta=0.01, max_iter=max_iter)\n",
    "for i in range(int(max_iter)):\n",
    "  y_pred = X @ w\n",
    "  errors.append(mean_squared_error(y, y_pred))\n",
    "plt.plot(range(len(errors)), errors)\n",
    "plt.xlabel('Iteration number')\n",
    "plt.ylabel('MSE')\n",
    "plt.show()"
   ]
  },
  {
   "cell_type": "code",
   "execution_count": null,
   "metadata": {},
   "outputs": [],
   "source": []
  }
 ],
 "metadata": {
  "kernelspec": {
   "display_name": "Python 3",
   "language": "python",
   "name": "python3"
  },
  "language_info": {
   "codemirror_mode": {
    "name": "ipython",
    "version": 3
   },
   "file_extension": ".py",
   "mimetype": "text/x-python",
   "name": "python",
   "nbconvert_exporter": "python",
   "pygments_lexer": "ipython3",
   "version": "3.11.3"
  }
 },
 "nbformat": 4,
 "nbformat_minor": 2
}
