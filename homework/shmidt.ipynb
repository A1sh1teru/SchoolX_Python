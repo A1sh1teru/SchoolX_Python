{
 "cells": [
  {
   "cell_type": "code",
   "execution_count": 4,
   "metadata": {},
   "outputs": [
    {
     "name": "stdout",
     "output_type": "stream",
     "text": [
      "Note: you may need to restart the kernel to use updated packages.\n"
     ]
    },
    {
     "name": "stderr",
     "output_type": "stream",
     "text": [
      "\n",
      "[notice] A new release of pip available: 22.3.1 -> 23.2.1\n",
      "[notice] To update, run: python.exe -m pip install --upgrade pip\n"
     ]
    }
   ],
   "source": [
    "%pip install -q numpy"
   ]
  },
  {
   "cell_type": "code",
   "execution_count": 12,
   "metadata": {},
   "outputs": [],
   "source": [
    "import numpy as np"
   ]
  },
  {
   "cell_type": "code",
   "execution_count": 19,
   "metadata": {},
   "outputs": [],
   "source": [
    "# class Matrix:\n",
    "    # def __init__(self, matrix):\n",
    "    #     self.matrix = matrix\n",
    "\n",
    "    # def gram_schmidt(self):\n",
    "    #     basis = []\n",
    "    #     for i in range(len(self.matrix)):\n",
    "    #         vector = self.matrix[i].copy()\n",
    "    #         for j in range(i):\n",
    "    #             projection = sum(vector[k] * basis[j][k] for k in range(len(vector))) / sum(basis[j][k] ** 2 for k in range(len(basis[j])))\n",
    "    #             vector = [vector[k] - projection * basis[j][k] for k in range(len(vector))]\n",
    "    #         if sum(vector[k] ** 2 for k in range(len(vector))) > 1e-8:  # excluding zero vectors\n",
    "    #             basis.append(vector)\n",
    "    #     basis = [[v[k] / sum(v[k] ** 2 for k in range(len(v))) ** 0.5 for k in range(len(v))] for v in basis]  # normalizing vectors\n",
    "    #     return basis\n",
    "\n",
    "class Matrix:\n",
    "    def __init__(self, matrix):\n",
    "        self.matrix = np.array(matrix, dtype=float)\n",
    "\n",
    "    def gram_schmidt(self):\n",
    "        basis = []\n",
    "        for i in range(len(self.matrix)):\n",
    "            vector = self.matrix[i]\n",
    "            for j in range(i):\n",
    "                projection = np.dot(vector, basis[j]) / np.dot(basis[j], basis[j])\n",
    "                vector -= projection * basis[j]\n",
    "            if np.linalg.norm(vector) > 1e-8:  # excluding zero vectors\n",
    "                basis.append(vector)\n",
    "        basis = [v / np.linalg.norm(v) for v in basis]  # normalizing vectors\n",
    "        return basis"
   ]
  },
  {
   "cell_type": "code",
   "execution_count": 20,
   "metadata": {},
   "outputs": [
    {
     "name": "stdout",
     "output_type": "stream",
     "text": [
      "[array([ 0.66666667, -0.66666667,  0.        ,  0.33333333]), array([0.39440532, 0.61977979, 0.50709255, 0.45074894]), array([-0.62789559, -0.34598328,  0.41005426,  0.56382461]), array([-0.0758098 ,  0.22742941, -0.75809804,  0.60647843])]\n"
     ]
    }
   ],
   "source": [
    "matrix = Matrix([[2, -2, 0, 1], [2, 2, 2, 2], [0, -2, 1, 2], [2, 1, -1, 0]])\n",
    "# matrix_float = np.array(matrix.matrix, dtype=float)\n",
    "basis_vectors = matrix.gram_schmidt()\n",
    "print(basis_vectors)"
   ]
  },
  {
   "cell_type": "code",
   "execution_count": null,
   "metadata": {},
   "outputs": [],
   "source": []
  }
 ],
 "metadata": {
  "kernelspec": {
   "display_name": "Python 3",
   "language": "python",
   "name": "python3"
  },
  "language_info": {
   "codemirror_mode": {
    "name": "ipython",
    "version": 3
   },
   "file_extension": ".py",
   "mimetype": "text/x-python",
   "name": "python",
   "nbconvert_exporter": "python",
   "pygments_lexer": "ipython3",
   "version": "3.11.3"
  },
  "orig_nbformat": 4
 },
 "nbformat": 4,
 "nbformat_minor": 2
}
