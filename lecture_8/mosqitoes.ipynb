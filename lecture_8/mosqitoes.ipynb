{
 "cells": [
  {
   "cell_type": "code",
   "execution_count": 1,
   "metadata": {},
   "outputs": [
    {
     "name": "stdout",
     "output_type": "stream",
     "text": [
      "10 2 5\n",
      "20 2 10\n",
      "60 4 15\n"
     ]
    }
   ],
   "source": [
    "class MosquitoesCloud:\n",
    "    def __init__(\n",
    "            self, \n",
    "            damage_per_mosquito: float = 2, \n",
    "            mosquitoes_in_cloud: int = 5,\n",
    "    \n",
    "    ):\n",
    "        if damage_per_mosquito is not None and mosquitoes_in_cloud is not None:\n",
    "            self.damage_per_mosquito = damage_per_mosquito\n",
    "            self.mosquitoes_in_cloud = mosquitoes_in_cloud\n",
    "            self.damage = damage_per_mosquito * mosquitoes_in_cloud\n",
    "        else:\n",
    "            raise ValueError('Please provide correct variables')\n",
    "        \n",
    "    def __add__(self: 'MosquitoesCloud', other: 'MosquitoesCloud') -> 'MosquitoesCloud':\n",
    "        new_mosquitoes_cloud = MosquitoesCloud(\n",
    "            damage_per_mosquito=(self.damage_per_mosquito + other.damage_per_mosquito),\n",
    "            mosquitoes_in_cloud=self.mosquitoes_in_cloud + other.mosquitoes_in_cloud,\n",
    "        )\n",
    "        return new_mosquitoes_cloud\n",
    "\n",
    "mcloud1 = MosquitoesCloud()\n",
    "\n",
    "mcloud2 = MosquitoesCloud(\n",
    "    mosquitoes_in_cloud=10\n",
    ")\n",
    "\n",
    "mcloud3 = mcloud1+mcloud2\n",
    "print(mcloud1.damage, mcloud1.damage_per_mosquito, mcloud1.mosquitoes_in_cloud)\n",
    "print(mcloud2.damage, mcloud2.damage_per_mosquito, mcloud2.mosquitoes_in_cloud)\n",
    "print(mcloud3.damage, mcloud3.damage_per_mosquito, mcloud3.mosquitoes_in_cloud)"
   ]
  },
  {
   "cell_type": "code",
   "execution_count": null,
   "metadata": {},
   "outputs": [],
   "source": []
  }
 ],
 "metadata": {
  "kernelspec": {
   "display_name": "Python 3",
   "language": "python",
   "name": "python3"
  },
  "language_info": {
   "codemirror_mode": {
    "name": "ipython",
    "version": 3
   },
   "file_extension": ".py",
   "mimetype": "text/x-python",
   "name": "python",
   "nbconvert_exporter": "python",
   "pygments_lexer": "ipython3",
   "version": "3.11.3"
  },
  "orig_nbformat": 4
 },
 "nbformat": 4,
 "nbformat_minor": 2
}
